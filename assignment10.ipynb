{
 "cells": [
  {
   "cell_type": "markdown",
   "metadata": {},
   "source": [
    "## This is script classify digit '0' against all the other digits '1', '2', '3', '4', '5', '6', '7', '8', '9' using linear bi-partitioning function and sign function.\n",
    "\n",
    "## Name : Jee-Hye Yang\n",
    "\n",
    "## Student ID : 20145708\n",
    "\n",
    "## GitHub address : https://github.com/geehyeS2/assignment10"
   ]
  },
  {
   "cell_type": "code",
   "execution_count": 50,
   "metadata": {},
   "outputs": [],
   "source": [
    "### import packages for plottion graphs and manipulating data:"
   ]
  },
  {
   "cell_type": "code",
   "execution_count": 51,
   "metadata": {},
   "outputs": [],
   "source": [
    "import pandas as pd\n",
    "import numpy as np\n",
    "import matplotlib.pyplot as plt\n",
    "import numpy.linalg as lin"
   ]
  },
  {
   "cell_type": "code",
   "execution_count": 52,
   "metadata": {},
   "outputs": [],
   "source": [
    "### upload mnist_train and test file and save the vector as an array."
   ]
  },
  {
   "cell_type": "code",
   "execution_count": 53,
   "metadata": {},
   "outputs": [],
   "source": [
    "size_row    = 28    # height of the image\n",
    "size_col    = 28    # width of the image\n",
    "alpha = 0\n",
    "p = 1\n",
    "classinit = 9\n",
    "train = pd.read_csv(\"mnist_train.csv\")\n",
    "test = pd.read_csv(\"mnist_test.csv\")\n",
    "traindata = np.array(train)\n",
    "testdata = np.array(test)\n",
    "label = [] "
   ]
  },
  {
   "cell_type": "code",
   "execution_count": 54,
   "metadata": {},
   "outputs": [],
   "source": [
    "### If there is a matrix whose entire column is 0, remove it from the data set."
   ]
  },
  {
   "cell_type": "code",
   "execution_count": 55,
   "metadata": {},
   "outputs": [],
   "source": [
    "#\n",
    "# distinguish x and y.\n",
    "# y is the label.\n",
    "#\n",
    "train_y, train_x = np.split(traindata, [1], axis=1)\n",
    "test_y, test_x = np.split(testdata, [1], axis=1)"
   ]
  },
  {
   "cell_type": "code",
   "execution_count": 56,
   "metadata": {},
   "outputs": [],
   "source": [
    "# normalize the values of the input data to be [0, 1]\n",
    "#\n",
    "def normalize(data):\n",
    "\n",
    "    data_normalized = (data - data.min()) / (data.max() - data.min())\n",
    "    return(data_normalized)\n",
    "\n",
    "#\n",
    "# example of distance function between two vectors x and y\n",
    "#\n",
    "def distance(x, y):\n",
    "\n",
    "    d = (x - y) ** 2\n",
    "    s = np.sum(d)\n",
    "    # r = np.sqrt(s)\n",
    "    return(s)\n",
    "\n",
    "#\n",
    "# Defined the sign function.\n",
    "#\n",
    "def sign(data, alpha = 0):\n",
    "    return np.where(data>=alpha, 1, -1)\n",
    "\n",
    "\n",
    "#\n",
    "#random Value Function\n",
    "#\n",
    "def randomValue(X,p):\n",
    "    n = np.random.normal(0,1,(p,X.shape[1]))\n",
    "    return (n)\n",
    "\n",
    "#RV = randomValue(train_x,p)\n",
    "\n",
    "#\n",
    "#Chagevalue\n",
    "#\n",
    "def ChangeFeature(X,p):\n",
    "    A = np.zeros((X.shape[0], p))\n",
    "    for j in range(X.shape[0]):\n",
    "        for i in range(p):\n",
    "            A[j][i] = np.dot(X[j],random[i].T) \n",
    "    return A\n",
    "\n",
    "#CF = ChangeFeature(train_x)\n",
    "#nor_x = normalize(trian_x)\n",
    "\n",
    "#\n",
    "# Defined an approximation function using sudo inverse.\n",
    "# X : number of sample * feature(pixel) -> (matrix)\n",
    "# y : sample * 1  -> (matrix)\n",
    "#\n",
    "def approximation(X, y, p ,classinit):\n",
    "    array = []\n",
    "    X = np.where(np.isnan(X), 0, X)\n",
    "    X = normalize(X)\n",
    "    train_A = ChangeFeature(X,p) \n",
    "    for i in range(classinit):\n",
    "        temp = np.where(y == i,1,-1)\n",
    "        k = np.dot(np.dot(lin.inv(np.dot(train_A.T, train_A)), train_A.T), temp)\n",
    "        array.append(k)\n",
    "        positive_index = np.where(sign(np.dot(train_A,k)) == 1)[0] \n",
    "        train_A = np.delete(train_A, positive_index, axis = 0)\n",
    "        y = np.delete(y, positive_index)            \n",
    "    return (array)\n",
    "\n",
    "\n",
    "#\n",
    "# Defined predict function using sign function\n",
    "#\n",
    "\n",
    "\n",
    "def predict(test_x, array, p, classinit):\n",
    "    test_A = ChangeFeature(normalize(test_x), p)\n",
    "    y = np.ones(test_x.shape[0])\n",
    "    finished_index = np.empty(0)\n",
    "    for i in range(classinit):\n",
    "        #print(array[i].shape)\n",
    "        temp_index = np.where(sign(np.dot(test_A, array[i])).astype(int) == 1)[0] \n",
    "        for j in temp_index:\n",
    "            if not j in finished_index:\n",
    "                y[j] = i\n",
    "        if i == classinit-1:\n",
    "            negative_index = np.where(sign(np.dot(test_A, array[i])).astype(int) == -1)[0]\n",
    "            for j in negative_index:\n",
    "                if not j in finished_index:\n",
    "                    y[j] = classinit\n",
    "        finished_index = np.concatenate((finished_index, temp_index))\n",
    "            \n",
    "    return y.astype(int)\n",
    "    \n",
    "    "
   ]
  },
  {
   "cell_type": "code",
   "execution_count": 57,
   "metadata": {},
   "outputs": [
    {
     "name": "stderr",
     "output_type": "stream",
     "text": [
      "/Users/geehyeS2/anaconda3/lib/python3.6/site-packages/sklearn/metrics/classification.py:1135: UndefinedMetricWarning: F-score is ill-defined and being set to 0.0 in labels with no predicted samples.\n",
      "  'precision', 'predicted', average, warn_for)\n"
     ]
    },
    {
     "data": {
      "image/png": "[encoded data removed]",
      "text/plain": [
       "<Figure size 432x288 with 1 Axes>"
      ]
     },
     "metadata": {},
     "output_type": "display_data"
    },
    {
     "name": "stdout",
     "output_type": "stream",
     "text": [
      "Maximum F1 score : 0.8538344470665681 When p =  512\n",
      "[[ 918    0    1    4    0    5    8    1    3   40]\n",
      " [   0 1053    2    1    1    2    3    3   29   41]\n",
      " [  12   18  767   45   10    1   21   21   51   86]\n",
      " [   5    3   11  791    0   27    8   15   29  121]\n",
      " [   1    6    6    0  803    0    6    1    7  152]\n",
      " [   8    8    2   31   10  681   17   18   55   62]\n",
      " [  14    6    9    2    8   19  863    0   12   25]\n",
      " [   9   17    8   13   15    1    0  883    1   80]\n",
      " [   5   12    4    8   12   23   10    4  783  113]\n",
      " [   6    1    1    6   18    2    0    8    6  961]]\n"
     ]
    }
   ],
   "source": [
    "from sklearn.metrics import f1_score\n",
    "from sklearn.metrics import confusion_matrix\n",
    "\n",
    "x = np.arange(1,10)\n",
    "max_f1_score = 0\n",
    "max_p = 0\n",
    "result_y_predict = np.zeros(test_y.shape)\n",
    "for i in x:\n",
    "    #classinit = 9\n",
    "    #p = 2**i\n",
    "    random = randomValue(test_x,2**i)\n",
    "    app = approximation(train_x, train_y, 2**i,9)# get train x and y using approximation function\n",
    "    y_predict = predict(test_x, app, 2**i,9) # using sign function get y_predict\n",
    "    #print(np.unique(y_predict))\n",
    "    y=f1_score(test_y, y_predict, average='macro', labels=np.unique(test_y))\n",
    "    if y>max_f1_score:\n",
    "        max_f1_score = y\n",
    "        max_p = i\n",
    "        result_y_predict = y_predict\n",
    "    plt.scatter(i, y, label=i)\n",
    "    \n",
    "plt.ylabel(\"F1 score\")\n",
    "plt.xlabel(\"log_2{p}\")\n",
    "plt.legend(bbox_to_anchor=(1,1))\n",
    "plt.show()\n",
    "print(\"Maximum F1 score :\",max_f1_score, \"When p = \", 2**max_p)\n",
    "print(confusion_matrix(test_y, result_y_predict))\n",
    "\n"
   ]
  }
 ],
 "metadata": {
  "kernelspec": {
   "display_name": "Python 3",
   "language": "python",
   "name": "python3"
  },
  "language_info": {
   "codemirror_mode": {
    "name": "ipython",
    "version": 3
   },
   "file_extension": ".py",
   "mimetype": "text/x-python",
   "name": "python",
   "nbconvert_exporter": "python",
   "pygments_lexer": "ipython3",
   "version": "3.6.5"
  }
 },
 "nbformat": 4,
 "nbformat_minor": 2
}
